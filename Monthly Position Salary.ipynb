{
 "cells": [
  {
   "cell_type": "code",
   "execution_count": 1,
   "metadata": {},
   "outputs": [],
   "source": [
    "## import pandas\n",
    "import os\n",
    "import pandas as pd\n",
    "import numpy as np\n",
    "%matplotlib inline\n",
    "import matplotlib.pyplot as plt"
   ]
  },
  {
   "cell_type": "code",
   "execution_count": 2,
   "metadata": {},
   "outputs": [
    {
     "data": {
      "text/html": [
       "<div>\n",
       "<style scoped>\n",
       "    .dataframe tbody tr th:only-of-type {\n",
       "        vertical-align: middle;\n",
       "    }\n",
       "\n",
       "    .dataframe tbody tr th {\n",
       "        vertical-align: top;\n",
       "    }\n",
       "\n",
       "    .dataframe thead th {\n",
       "        text-align: right;\n",
       "    }\n",
       "</style>\n",
       "<table border=\"1\" class=\"dataframe\">\n",
       "  <thead>\n",
       "    <tr style=\"text-align: right;\">\n",
       "      <th></th>\n",
       "      <th>2019 Authorized Budget</th>\n",
       "      <th>Unnamed: 1</th>\n",
       "      <th>Unnamed: 2</th>\n",
       "      <th>Unnamed: 3</th>\n",
       "      <th>Unnamed: 4</th>\n",
       "      <th>March</th>\n",
       "      <th>Unnamed: 6</th>\n",
       "      <th>Unnamed: 7</th>\n",
       "      <th>Unnamed: 8</th>\n",
       "      <th>April</th>\n",
       "      <th>...</th>\n",
       "      <th>Unnamed: 91</th>\n",
       "      <th>Unnamed: 92</th>\n",
       "      <th>Jan-19</th>\n",
       "      <th>Unnamed: 94</th>\n",
       "      <th>Unnamed: 95</th>\n",
       "      <th>Unnamed: 96</th>\n",
       "      <th>Feb-19</th>\n",
       "      <th>Unnamed: 98</th>\n",
       "      <th>Unnamed: 99</th>\n",
       "      <th>Unnamed: 100</th>\n",
       "    </tr>\n",
       "  </thead>\n",
       "  <tbody>\n",
       "    <tr>\n",
       "      <th>1</th>\n",
       "      <td>1</td>\n",
       "      <td>ASST CITY ATTY</td>\n",
       "      <td>1.00</td>\n",
       "      <td>ATTORNEY</td>\n",
       "      <td>154,755</td>\n",
       "      <td>3504</td>\n",
       "      <td>ASST CITY ATTY</td>\n",
       "      <td>1.00</td>\n",
       "      <td>143,627</td>\n",
       "      <td>3504</td>\n",
       "      <td>...</td>\n",
       "      <td>1.00</td>\n",
       "      <td>154,162</td>\n",
       "      <td>3504</td>\n",
       "      <td>ASST CITY ATTY-23</td>\n",
       "      <td>1.00</td>\n",
       "      <td>154,162</td>\n",
       "      <td>3504</td>\n",
       "      <td>ASST CITY ATTY-23</td>\n",
       "      <td>1.00</td>\n",
       "      <td>154,162</td>\n",
       "    </tr>\n",
       "  </tbody>\n",
       "</table>\n",
       "<p>1 rows × 101 columns</p>\n",
       "</div>"
      ],
      "text/plain": [
       "  2019 Authorized Budget      Unnamed: 1 Unnamed: 2 Unnamed: 3 Unnamed: 4  \\\n",
       "1                      1  ASST CITY ATTY      1.00    ATTORNEY   154,755    \n",
       "\n",
       "  March       Unnamed: 6 Unnamed: 7 Unnamed: 8 April     ...      Unnamed: 91  \\\n",
       "1   3504  ASST CITY ATTY      1.00    143,627   3504     ...            1.00    \n",
       "\n",
       "  Unnamed: 92 Jan-19        Unnamed: 94 Unnamed: 95 Unnamed: 96 Feb-19  \\\n",
       "1    154,162    3504  ASST CITY ATTY-23       1.00     154,162    3504   \n",
       "\n",
       "         Unnamed: 98 Unnamed: 99 Unnamed: 100  \n",
       "1  ASST CITY ATTY-23       1.00      154,162   \n",
       "\n",
       "[1 rows x 101 columns]"
      ]
     },
     "execution_count": 2,
     "metadata": {},
     "output_type": "execute_result"
    }
   ],
   "source": [
    "##read csv file as a dataframe and subset first row as a sample to show the trend\n",
    "monthly_position_tracker_df = pd.read_csv(\"/Users/HuKexin/desktop/s19-city-t3-master/Monthly Position Tracker.csv\")\n",
    "\n",
    "test_trend = monthly_position_tracker_df.loc[monthly_position_tracker_df[\"2019 Authorized Budget\"] == \"1\"]\n",
    "test_trend"
   ]
  },
  {
   "cell_type": "code",
   "execution_count": 3,
   "metadata": {},
   "outputs": [
    {
     "data": {
      "image/png": "[encoded data removed]",
      "text/plain": [
       "<Figure size 432x288 with 1 Axes>"
      ]
     },
     "metadata": {},
     "output_type": "display_data"
    }
   ],
   "source": [
    "##show the trend of salary from March to December in year \n",
    "##question: why does each year starts to record in March?\n",
    "x = [\"March\",\"April\",\"May\",\"June\",\"July\",\"August\",\"September\",\"October\",\"November\",\"December\",\"January\",\"February\"]\n",
    "\n",
    "y = [test_trend[\"Unnamed: 8\"].str.replace(\",\",\"\").astype(int),\n",
    "     test_trend[\"Unnamed: 12\"].str.replace(\",\",\"\").astype(int),\n",
    "     test_trend[\"Unnamed: 16\"].str.replace(\",\",\"\").astype(int),\n",
    "     test_trend[\"Unnamed: 20\"].str.replace(\",\",\"\").astype(int),\n",
    "     test_trend[\"Unnamed: 24\"].str.replace(\",\",\"\").astype(int),\n",
    "     test_trend[\"Unnamed: 28\"].str.replace(\",\",\"\").astype(int),\n",
    "     test_trend[\"Unnamed: 32\"].str.replace(\",\",\"\").astype(int),\n",
    "     test_trend[\"Unnamed: 36\"].str.replace(\",\",\"\").astype(int),\n",
    "     test_trend[\"Unnamed: 40\"].str.replace(\",\",\"\").astype(int),\n",
    "     test_trend[\"Unnamed: 44\"].str.replace(\",\",\"\").astype(int),\n",
    "     test_trend[\"Unnamed: 48\"].str.replace(\",\",\"\").astype(int),\n",
    "     test_trend[\"Unnamed: 52\"].str.replace(\",\",\"\").astype(int)]\n",
    "\n",
    "y = pd.Series(y)\n",
    "\n",
    "fig, ax = plt.subplots()\n",
    "fig.autofmt_xdate()\n",
    "ax.plot_date(x,y,linestyle='-')\n",
    "ax.set_title(\"Sample test of first row trend of salary in year 2017\")\n",
    "ax.set_xlabel(\"Month\")\n",
    "ax.set_ylabel(\"Salary($)\")\n",
    "plt.show()"
   ]
  },
  {
   "cell_type": "code",
   "execution_count": 4,
   "metadata": {},
   "outputs": [
    {
     "data": {
      "text/plain": [
       "2337650"
      ]
     },
     "execution_count": 4,
     "metadata": {},
     "output_type": "execute_result"
    }
   ],
   "source": [
    "scenario = monthly_position_tracker_df[\"Unnamed: 3\"]==\"ATTORNEY\"\n",
    "attorney_2017_salary = monthly_position_tracker_df[scenario == True]\n",
    "\n",
    "\n",
    "##March\n",
    "march_salary_2017 = attorney_2017_salary[\"Unnamed: 8\"].replace(\" -   \",\"0\")\n",
    "march_salary_2017\n",
    "\n",
    "march_sum = 0\n",
    "for salary in march_salary_2017:\n",
    "    salary = salary.replace(\",\",\"\")\n",
    "    march_sum += int(salary)\n",
    "march_sum\n",
    "    \n",
    "\n"
   ]
  },
  {
   "cell_type": "code",
   "execution_count": 5,
   "metadata": {},
   "outputs": [
    {
     "data": {
      "text/plain": [
       "2342112"
      ]
     },
     "execution_count": 5,
     "metadata": {},
     "output_type": "execute_result"
    }
   ],
   "source": [
    "##April\n",
    "april_salary_2017 = attorney_2017_salary[\"Unnamed: 12\"].replace(\" -   \",\"0\")\n",
    "april_salary_2017\n",
    "\n",
    "april_sum = 0\n",
    "for salary in april_salary_2017:\n",
    "    salary = salary.replace(\",\",\"\")\n",
    "    april_sum += int(salary)\n",
    "april_sum\n",
    "    "
   ]
  },
  {
   "cell_type": "code",
   "execution_count": 6,
   "metadata": {},
   "outputs": [
    {
     "data": {
      "text/plain": [
       "2343157"
      ]
     },
     "execution_count": 6,
     "metadata": {},
     "output_type": "execute_result"
    }
   ],
   "source": [
    "##May\n",
    "may_salary_2017 = attorney_2017_salary[\"Unnamed: 16\"].replace(\" -   \",\"0\")\n",
    "may_salary_2017 = may_salary_2017.replace(\"VACANT\",\"0\")\n",
    "\n",
    "may_sum = 0\n",
    "for salary in may_salary_2017:\n",
    "    salary = salary.replace(\",\",\"\")\n",
    "    may_sum += int(salary)\n",
    "may_sum\n",
    "    "
   ]
  },
  {
   "cell_type": "code",
   "execution_count": 17,
   "metadata": {},
   "outputs": [
    {
     "data": {
      "text/plain": [
       "2343699"
      ]
     },
     "execution_count": 17,
     "metadata": {},
     "output_type": "execute_result"
    }
   ],
   "source": [
    "##June\n",
    "june_salary_2017 = attorney_2017_salary[\"Unnamed: 20\"].replace(\" -   \",\"0\")\n",
    "june_salary_2017 = june_salary_2017.replace(\"VACANT\",\"0\")\n",
    "\n",
    "june_sum = 0\n",
    "for salary in june_salary_2017:\n",
    "    salary = salary.replace(\",\",\"\")\n",
    "    june_sum += int(salary)\n",
    "june_sum\n",
    "    "
   ]
  },
  {
   "cell_type": "code",
   "execution_count": 7,
   "metadata": {},
   "outputs": [
    {
     "data": {
      "text/plain": [
       "2390570"
      ]
     },
     "execution_count": 7,
     "metadata": {},
     "output_type": "execute_result"
    }
   ],
   "source": [
    "##July\n",
    "july_salary_2017 = attorney_2017_salary[\"Unnamed: 24\"].replace(\" -   \",\"0\")\n",
    "july_salary_2017 = july_salary_2017.replace(\"VACANT\",\"0\")\n",
    "\n",
    "july_sum = 0\n",
    "for salary in july_salary_2017:\n",
    "    salary = salary.replace(\",\",\"\")\n",
    "    july_sum += int(salary)\n",
    "july_sum\n",
    "    "
   ]
  },
  {
   "cell_type": "code",
   "execution_count": 8,
   "metadata": {},
   "outputs": [
    {
     "data": {
      "text/plain": [
       "2402286"
      ]
     },
     "execution_count": 8,
     "metadata": {},
     "output_type": "execute_result"
    }
   ],
   "source": [
    "##August\n",
    "august_salary_2017 = attorney_2017_salary[\"Unnamed: 28\"].replace(\" -   \",\"0\")\n",
    "august_salary_2017 = august_salary_2017.replace(' VACANT ',\"0\")\n",
    "\n",
    "august_sum = 0\n",
    "for salary in august_salary_2017:\n",
    "    salary = salary.replace(\",\",\"\")\n",
    "    august_sum += int(salary)\n",
    "august_sum\n",
    "    "
   ]
  },
  {
   "cell_type": "code",
   "execution_count": 9,
   "metadata": {},
   "outputs": [
    {
     "data": {
      "text/plain": [
       "2404455"
      ]
     },
     "execution_count": 9,
     "metadata": {},
     "output_type": "execute_result"
    }
   ],
   "source": [
    "##September\n",
    "september_salary_2017 = attorney_2017_salary[\"Unnamed: 32\"].replace(\" -   \",\"0\")\n",
    "september_salary_2017 = september_salary_2017.replace('VACANT',\"0\")\n",
    "\n",
    "september_sum = 0\n",
    "for salary in september_salary_2017:\n",
    "    salary = salary.replace(\",\",\"\")\n",
    "    september_sum += int(salary)\n",
    "september_sum\n",
    "    "
   ]
  },
  {
   "cell_type": "code",
   "execution_count": 10,
   "metadata": {},
   "outputs": [
    {
     "data": {
      "text/plain": [
       "2404455"
      ]
     },
     "execution_count": 10,
     "metadata": {},
     "output_type": "execute_result"
    }
   ],
   "source": [
    "##October\n",
    "october_salary_2017 = attorney_2017_salary[\"Unnamed: 36\"].replace(\" -   \",\"0\")\n",
    "october_salary_2017 = october_salary_2017.replace('VACANT',\"0\")\n",
    "\n",
    "october_sum = 0\n",
    "for salary in october_salary_2017:\n",
    "    salary = salary.replace(\",\",\"\")\n",
    "    october_sum += int(salary)\n",
    "october_sum\n",
    "    "
   ]
  },
  {
   "cell_type": "code",
   "execution_count": 11,
   "metadata": {},
   "outputs": [
    {
     "data": {
      "text/plain": [
       "2404455"
      ]
     },
     "execution_count": 11,
     "metadata": {},
     "output_type": "execute_result"
    }
   ],
   "source": [
    "##November\n",
    "november_salary_2017 = attorney_2017_salary[\"Unnamed: 40\"].replace(\" -   \",\"0\")\n",
    "november_salary_2017 = november_salary_2017.replace('VACANT',\"0\")\n",
    "\n",
    "november_sum = 0\n",
    "for salary in november_salary_2017:\n",
    "    salary = salary.replace(\",\",\"\")\n",
    "    november_sum += int(salary)\n",
    "november_sum\n",
    "    "
   ]
  },
  {
   "cell_type": "code",
   "execution_count": 12,
   "metadata": {},
   "outputs": [
    {
     "data": {
      "text/plain": [
       "2430659"
      ]
     },
     "execution_count": 12,
     "metadata": {},
     "output_type": "execute_result"
    }
   ],
   "source": [
    "##December\n",
    "december_salary_2017 = attorney_2017_salary[\"Unnamed: 44\"].replace(\" -   \",\"0\")\n",
    "december_salary_2017 = december_salary_2017.replace('VACANT',\"0\")\n",
    "\n",
    "december_sum = 0\n",
    "for salary in december_salary_2017:\n",
    "    salary = salary.replace(\",\",\"\")\n",
    "    december_sum += int(salary)\n",
    "december_sum\n",
    "    "
   ]
  },
  {
   "cell_type": "code",
   "execution_count": 13,
   "metadata": {},
   "outputs": [
    {
     "data": {
      "text/plain": [
       "2456207"
      ]
     },
     "execution_count": 13,
     "metadata": {},
     "output_type": "execute_result"
    }
   ],
   "source": [
    "##January\n",
    "january_salary_2017 = attorney_2017_salary[\"Unnamed: 48\"].replace(\" -   \",\"0\")\n",
    "january_salary_2017 = january_salary_2017.replace('VACANT',\"0\")\n",
    "\n",
    "january_sum = 0\n",
    "for salary in january_salary_2017:\n",
    "    salary = salary.replace(\",\",\"\")\n",
    "    january_sum += int(salary)\n",
    "january_sum\n",
    "    "
   ]
  },
  {
   "cell_type": "code",
   "execution_count": 14,
   "metadata": {},
   "outputs": [
    {
     "data": {
      "text/plain": [
       "2459416"
      ]
     },
     "execution_count": 14,
     "metadata": {},
     "output_type": "execute_result"
    }
   ],
   "source": [
    "##February\n",
    "february_salary_2017 = attorney_2017_salary[\"Unnamed: 52\"].replace(\" -   \",\"0\")\n",
    "february_salary_2017 = february_salary_2017.replace('VACANT',\"0\")\n",
    "\n",
    "february_sum = 0\n",
    "for salary in february_salary_2017:\n",
    "    salary = salary.replace(\",\",\"\")\n",
    "    february_sum += int(salary)\n",
    "february_sum"
   ]
  },
  {
   "cell_type": "code",
   "execution_count": 15,
   "metadata": {},
   "outputs": [
    {
     "data": {
      "text/plain": [
       "2649602"
      ]
     },
     "execution_count": 15,
     "metadata": {},
     "output_type": "execute_result"
    }
   ],
   "source": [
    "##budget\n",
    "budget_salary_2017 = attorney_2017_salary[\"Unnamed: 4\"].replace(\" -   \",\"0\")\n",
    "budget_salary_2017 = budget_salary_2017.replace('VACANT',\"0\")\n",
    "\n",
    "budget_sum = 0\n",
    "for salary in budget_salary_2017:\n",
    "    salary = salary.replace(\",\",\"\")\n",
    "    budget_sum += int(salary)\n",
    "budget_sum\n",
    "\n",
    "\n"
   ]
  },
  {
   "cell_type": "code",
   "execution_count": 18,
   "metadata": {},
   "outputs": [
    {
     "data": {
      "image/png": "[encoded data removed]",
      "text/plain": [
       "<Figure size 432x288 with 1 Axes>"
      ]
     },
     "metadata": {},
     "output_type": "display_data"
    }
   ],
   "source": [
    "x = [\"March\",\"April\",\"May\",\"June\",\"July\",\"August\",\"September\",\"October\",\"November\",\"December\",\"January\",\"February\"]\n",
    "y = [march_sum,april_sum,may_sum,june_sum,july_sum,august_sum,september_sum,october_sum,november_sum,december_sum,january_sum,february_sum]\n",
    "y_budget = [budget_sum,budget_sum,budget_sum,budget_sum,budget_sum,budget_sum,budget_sum,budget_sum,budget_sum,budget_sum,budget_sum,budget_sum]\n",
    "y = pd.Series(y)\n",
    "y_budget = pd.Series(y_budget)\n",
    "\n",
    "fig, ax = plt.subplots()\n",
    "fig.autofmt_xdate()\n",
    "ax.plot_date(x,y,linestyle='-')\n",
    "ax.legend([\"budget\"])\n",
    "ax.plot_date(x,y_budget,linestyle='-' )\n",
    "ax.legend([\"current\"])\n",
    "ax.set_title(\"Salary Trend of Position Attorney\")\n",
    "ax.set_xlabel(\"Month\")\n",
    "ax.set_ylabel(\"Salary($)\")\n",
    "plt.show()"
   ]
  },
  {
   "cell_type": "code",
   "execution_count": null,
   "metadata": {},
   "outputs": [],
   "source": []
  }
 ],
 "metadata": {
  "kernelspec": {
   "display_name": "Python 3",
   "language": "python",
   "name": "python3"
  },
  "language_info": {
   "codemirror_mode": {
    "name": "ipython",
    "version": 3
   },
   "file_extension": ".py",
   "mimetype": "text/x-python",
   "name": "python",
   "nbconvert_exporter": "python",
   "pygments_lexer": "ipython3",
   "version": "3.6.5"
  }
 },
 "nbformat": 4,
 "nbformat_minor": 2
}
